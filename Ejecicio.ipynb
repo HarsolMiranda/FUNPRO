{
  "nbformat": 4,
  "nbformat_minor": 0,
  "metadata": {
    "colab": {
      "provenance": []
    },
    "kernelspec": {
      "name": "python3",
      "display_name": "Python 3"
    },
    "language_info": {
      "name": "python"
    }
  },
  "cells": [
    {
      "cell_type": "code",
      "execution_count": 6,
      "metadata": {
        "colab": {
          "base_uri": "https://localhost:8080/"
        },
        "id": "sOsrheUeXRr2",
        "outputId": "af20e210-2897-4d5f-8746-a719751d9de6"
      },
      "outputs": [
        {
          "name": "stdout",
          "output_type": "stream",
          "text": [
            "primer cuadrado: 6\n"
          ]
        }
      ],
      "source": [
        "#cuadrado=input(\"Primer lado del cuadrado  \")\n",
        "Cuadrado=float(input(\"primer cuadrado: \"))"
      ]
    },
    {
      "cell_type": "code",
      "source": [
        "cuadrado2=(Cuadrado*Cuadrado)"
      ],
      "metadata": {
        "id": "hP4KrkvQYFB2"
      },
      "execution_count": 18,
      "outputs": []
    },
    {
      "cell_type": "code",
      "source": [
        "print(f\"base el cuadao es: {cuadrado2}\")"
      ],
      "metadata": {
        "colab": {
          "base_uri": "https://localhost:8080/"
        },
        "id": "9IkqAf1FYfwq",
        "outputId": "f658dcaf-c5aa-4498-c9a5-a01c653451ba"
      },
      "execution_count": 25,
      "outputs": [
        {
          "output_type": "stream",
          "name": "stdout",
          "text": [
            "base el cuadao es: 36.0\n"
          ]
        }
      ]
    },
    {
      "cell_type": "markdown",
      "source": [
        "ejecicio 3"
      ],
      "metadata": {
        "id": "F_Aew1M-Z4WN"
      }
    },
    {
      "cell_type": "code",
      "source": [],
      "metadata": {
        "id": "8zNAWcD7Z7vG"
      },
      "execution_count": null,
      "outputs": []
    },
    {
      "cell_type": "code",
      "execution_count": 27,
      "metadata": {
        "colab": {
          "base_uri": "https://localhost:8080/"
        },
        "outputId": "5dbe659a-4583-47c3-bab5-1fa02da865f1",
        "id": "2e4mAgdyaDwf"
      },
      "outputs": [
        {
          "name": "stdout",
          "output_type": "stream",
          "text": [
            "vamos a calular el cuadrado  \n",
            "base: 5\n",
            "altura: 1\n"
          ]
        }
      ],
      "source": [
        "print(\"vamos a calular el cuadrado  \")\n",
        "base=float(input(\"base: \"))\n",
        "altura=float(input(\"altura: \"))"
      ]
    },
    {
      "cell_type": "code",
      "source": [
        "perimetro=2*(base*altura)\n"
      ],
      "metadata": {
        "id": "208Wx2vVadhy"
      },
      "execution_count": 31,
      "outputs": []
    },
    {
      "cell_type": "code",
      "source": [
        "Superficie=(base*altura)"
      ],
      "metadata": {
        "id": "89V8euD1ak5Y"
      },
      "execution_count": 32,
      "outputs": []
    },
    {
      "cell_type": "code",
      "source": [
        "print(f\"el Perimetro: {perimetro} superficie: {Superficie}\")"
      ],
      "metadata": {
        "colab": {
          "base_uri": "https://localhost:8080/"
        },
        "id": "qEdOea2TatPZ",
        "outputId": "554b30df-23bf-4b87-b78c-daeebffd636f"
      },
      "execution_count": 33,
      "outputs": [
        {
          "output_type": "stream",
          "name": "stdout",
          "text": [
            "el Perimetro: 10.0 superficie: 5.0\n"
          ]
        }
      ]
    },
    {
      "cell_type": "markdown",
      "source": [
        "4 Ejecicio"
      ],
      "metadata": {
        "id": "KC4IYc1LbXy-"
      }
    },
    {
      "cell_type": "code",
      "source": [
        "print(\"buenos dias puedes el precio del articulo (●'◡'●)  \")\n",
        "articulo=float(input(\"$ precio : \"))"
      ],
      "metadata": {
        "colab": {
          "base_uri": "https://localhost:8080/"
        },
        "id": "CYkk8yoEccHL",
        "outputId": "b2423c28-5166-4fce-8b20-155c4d035dca"
      },
      "execution_count": 39,
      "outputs": [
        {
          "name": "stdout",
          "output_type": "stream",
          "text": [
            "buenos dias puedes el precio del articulo (●'◡'●)  \n",
            "$ precio : 5000\n"
          ]
        }
      ]
    },
    {
      "cell_type": "code",
      "source": [
        "catidad=float(input(\"cuantos artulos necesitas : \"))\n",
        "cliente=float(input(\"por favor ingrese su dineros: \"))"
      ],
      "metadata": {
        "colab": {
          "base_uri": "https://localhost:8080/"
        },
        "id": "3X9XhsEGdcEc",
        "outputId": "c58628b9-e82f-49d5-d6fe-c400a5789d78"
      },
      "execution_count": 40,
      "outputs": [
        {
          "name": "stdout",
          "output_type": "stream",
          "text": [
            "cuantos artulos necesitas : 2\n",
            "por favor ingrese su dineros: 20000\n"
          ]
        }
      ]
    },
    {
      "cell_type": "code",
      "source": [
        "obj=(articulo*catidad)\n",
        "costo=(cliente-obj)"
      ],
      "metadata": {
        "id": "h8vCYSTleDxz"
      },
      "execution_count": 41,
      "outputs": []
    },
    {
      "cell_type": "code",
      "source": [
        "print(f\"cambi de entrega {costo}\")"
      ],
      "metadata": {
        "colab": {
          "base_uri": "https://localhost:8080/"
        },
        "id": "x0Rm79PUegVz",
        "outputId": "18baede6-9f81-4f87-8d66-f0db4b9edb36"
      },
      "execution_count": 42,
      "outputs": [
        {
          "output_type": "stream",
          "name": "stdout",
          "text": [
            "cambi de entrega 10000.0\n"
          ]
        }
      ]
    },
    {
      "cell_type": "markdown",
      "source": [
        "5 Ejemplo"
      ],
      "metadata": {
        "id": "Bk7UAEhNfD9S"
      }
    },
    {
      "cell_type": "code",
      "source": [],
      "metadata": {
        "id": "dNDq6B_ofF5S"
      },
      "execution_count": null,
      "outputs": []
    }
  ]
}