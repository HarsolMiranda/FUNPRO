{
  "nbformat": 4,
  "nbformat_minor": 0,
  "metadata": {
    "colab": {
      "provenance": []
    },
    "kernelspec": {
      "name": "python3",
      "display_name": "Python 3"
    },
    "language_info": {
      "name": "python"
    }
  },
  "cells": [
    {
      "cell_type": "markdown",
      "source": [
        "1.   imprmir print()\n",
        "2.   lee, asignar imprmir: variable=input()\n",
        "3.   int(input()): convierte de caracter a entero\n",
        "4.   float(input()):convertir de caracter a decimal\n"
      ],
      "metadata": {
        "id": "3Qx99xLOUrYk"
      }
    },
    {
      "cell_type": "code",
      "execution_count": 6,
      "metadata": {
        "colab": {
          "base_uri": "https://localhost:8080/"
        },
        "id": "P1YggecYL2uJ",
        "outputId": "19357eb6-4224-438e-f0cf-108b9e7ca549"
      },
      "outputs": [
        {
          "name": "stdout",
          "output_type": "stream",
          "text": [
            "ingresar codigo del estudiante U0025136\n"
          ]
        }
      ],
      "source": [
        "cod=input(\"ingresar codigo del estudiante \")"
      ]
    },
    {
      "cell_type": "code",
      "source": [
        "#Float=son decimales\n",
        "#int=entero\n",
        "Nota1=float(input(\"ingresar nota1: \"))\n",
        "Nota2=float(input(\"ingresar nota2: \"))\n",
        "Nota3=float(input(\"ingresar nota3: \"))\n",
        "Nota4=float(input(\"ingresar nota4: \"))\n",
        "Nota5=float(input(\"ingresar nota5: \"))\n"
      ],
      "metadata": {
        "colab": {
          "base_uri": "https://localhost:8080/"
        },
        "id": "8t39fGGTNe_a",
        "outputId": "7ba992ac-ae2e-4024-9c8b-d540b44abdc0"
      },
      "execution_count": 7,
      "outputs": [
        {
          "name": "stdout",
          "output_type": "stream",
          "text": [
            "ingresar nota1: 64\n",
            "ingresar nota2: 12\n",
            "ingresar nota3: 52\n",
            "ingresar nota4: 15\n",
            "ingresar nota5: 15\n"
          ]
        }
      ]
    },
    {
      "cell_type": "code",
      "source": [
        "Promedio=(Nota1+Nota2+Nota3+Nota4+Nota5)/5"
      ],
      "metadata": {
        "id": "o5C_Q4C_Nt36"
      },
      "execution_count": 8,
      "outputs": []
    },
    {
      "cell_type": "code",
      "source": [
        "print(f\"codigo del estudiante: {cod} promedio: {Promedio}\")"
      ],
      "metadata": {
        "colab": {
          "base_uri": "https://localhost:8080/"
        },
        "id": "5j0Kgj4XSjO9",
        "outputId": "2f041101-aac0-40ab-8f77-972e3d19a0cd"
      },
      "execution_count": 13,
      "outputs": [
        {
          "output_type": "stream",
          "name": "stdout",
          "text": [
            "codigo del estudiante: U0025136 promedio: 31.6\n"
          ]
        }
      ]
    }
  ]
}