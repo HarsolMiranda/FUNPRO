{
  "nbformat": 4,
  "nbformat_minor": 0,
  "metadata": {
    "colab": {
      "provenance": []
    },
    "kernelspec": {
      "name": "python3",
      "display_name": "Python 3"
    },
    "language_info": {
      "name": "python"
    }
  },
  "cells": [
    {
      "cell_type": "markdown",
      "source": [
        "Ejercicio 2"
      ],
      "metadata": {
        "id": "GKomVAA6egUp"
      }
    },
    {
      "cell_type": "code",
      "execution_count": 214,
      "metadata": {
        "colab": {
          "base_uri": "https://localhost:8080/"
        },
        "id": "sOsrheUeXRr2",
        "outputId": "fc7774a7-f229-4e15-82b7-f0e9895b48ea"
      },
      "outputs": [
        {
          "name": "stdout",
          "output_type": "stream",
          "text": [
            "dame unmero: 2\n"
          ]
        }
      ],
      "source": [
        "#cuadrado=input(\"Primer lado del cuadrado  \")\n",
        "Cuadrado=int(input(\"dame unmero: \"))"
      ]
    },
    {
      "cell_type": "code",
      "source": [
        "resul= pow((Cuadrado),2)\n",
        "\n",
        "def switch_case(case):\n",
        "    if case == Cuadrado<0:\n",
        "        return \"Error numero negativo\"\n",
        "\n",
        "\n",
        "resultado = switch_case(1)\n",
        "print(resultado)  # Salida: Opción 2"
      ],
      "metadata": {
        "id": "hP4KrkvQYFB2",
        "colab": {
          "base_uri": "https://localhost:8080/"
        },
        "outputId": "a838d35a-4a5e-4884-b1af-d6b92b39d794"
      },
      "execution_count": 215,
      "outputs": [
        {
          "output_type": "stream",
          "name": "stdout",
          "text": [
            "None\n"
          ]
        }
      ]
    },
    {
      "cell_type": "code",
      "source": [
        "print(f\"el cuadrado es: { resul }\")"
      ],
      "metadata": {
        "colab": {
          "base_uri": "https://localhost:8080/"
        },
        "id": "9IkqAf1FYfwq",
        "outputId": "4f52e7ca-98d5-444f-d1ea-1c3d0fa3a51d"
      },
      "execution_count": 216,
      "outputs": [
        {
          "output_type": "stream",
          "name": "stdout",
          "text": [
            "el cuadrado es: 4\n"
          ]
        }
      ]
    },
    {
      "cell_type": "markdown",
      "source": [
        "Ejercicio 3"
      ],
      "metadata": {
        "id": "F_Aew1M-Z4WN"
      }
    },
    {
      "cell_type": "code",
      "source": [],
      "metadata": {
        "id": "8zNAWcD7Z7vG"
      },
      "execution_count": null,
      "outputs": []
    },
    {
      "cell_type": "code",
      "execution_count": 1,
      "metadata": {
        "colab": {
          "base_uri": "https://localhost:8080/"
        },
        "outputId": "470287fb-8ef6-4ba7-d1d6-b31142e92f66",
        "id": "2e4mAgdyaDwf"
      },
      "outputs": [
        {
          "name": "stdout",
          "output_type": "stream",
          "text": [
            "vamos a calular el cuadrado  \n",
            "base: 5\n",
            "altura: 3\n"
          ]
        }
      ],
      "source": [
        "print(\"vamos a calular el cuadrado  \")\n",
        "base=float(input(\"base: \"))\n",
        "altura=float(input(\"altura: \"))"
      ]
    },
    {
      "cell_type": "code",
      "source": [
        "perimetro=2*(base*altura)\n"
      ],
      "metadata": {
        "id": "208Wx2vVadhy"
      },
      "execution_count": 2,
      "outputs": []
    },
    {
      "cell_type": "code",
      "source": [
        "Superficie=(base*altura)"
      ],
      "metadata": {
        "id": "89V8euD1ak5Y"
      },
      "execution_count": 3,
      "outputs": []
    },
    {
      "cell_type": "code",
      "source": [
        "print(f\"el Perimetro: {perimetro} superficie: {Superficie}\")"
      ],
      "metadata": {
        "colab": {
          "base_uri": "https://localhost:8080/"
        },
        "id": "qEdOea2TatPZ",
        "outputId": "c7d67198-1928-4633-b947-706996655560"
      },
      "execution_count": 4,
      "outputs": [
        {
          "output_type": "stream",
          "name": "stdout",
          "text": [
            "el Perimetro: 30.0 superficie: 15.0\n"
          ]
        }
      ]
    },
    {
      "cell_type": "markdown",
      "source": [
        "Ejercicio 4"
      ],
      "metadata": {
        "id": "KC4IYc1LbXy-"
      }
    },
    {
      "cell_type": "code",
      "source": [
        "print(\"buenos dias puedes el precio del articulo (●'◡'●)  \")\n",
        "articulo=float(input(\"$ precio : \"))"
      ],
      "metadata": {
        "colab": {
          "base_uri": "https://localhost:8080/"
        },
        "id": "CYkk8yoEccHL",
        "outputId": "7d660c7a-e72d-4855-9bce-d6dbae212931"
      },
      "execution_count": 9,
      "outputs": [
        {
          "name": "stdout",
          "output_type": "stream",
          "text": [
            "buenos dias puedes el precio del articulo (●'◡'●)  \n",
            "$ precio : 1000\n"
          ]
        }
      ]
    },
    {
      "cell_type": "code",
      "source": [
        "catidad=float(input(\"cuantos artulos necesitas : \"))\n",
        "cliente=float(input(\"por favor ingrese su dineros: \"))"
      ],
      "metadata": {
        "colab": {
          "base_uri": "https://localhost:8080/"
        },
        "id": "3X9XhsEGdcEc",
        "outputId": "9b2e45c2-5259-4090-c16a-99bef5f4d832"
      },
      "execution_count": 10,
      "outputs": [
        {
          "name": "stdout",
          "output_type": "stream",
          "text": [
            "cuantos artulos necesitas : 5\n",
            "por favor ingrese su dineros: 50000\n"
          ]
        }
      ]
    },
    {
      "cell_type": "code",
      "source": [
        "obj=(articulo*catidad)\n",
        "costo=(cliente-obj)"
      ],
      "metadata": {
        "id": "h8vCYSTleDxz"
      },
      "execution_count": 11,
      "outputs": []
    },
    {
      "cell_type": "code",
      "source": [
        "print(f\"cambio de entrega {costo}\")"
      ],
      "metadata": {
        "colab": {
          "base_uri": "https://localhost:8080/"
        },
        "id": "x0Rm79PUegVz",
        "outputId": "5771c357-50e1-4e2a-f3c1-8fd448f136e8"
      },
      "execution_count": 12,
      "outputs": [
        {
          "output_type": "stream",
          "name": "stdout",
          "text": [
            "cambi de entrega 45000.0\n"
          ]
        }
      ]
    },
    {
      "cell_type": "markdown",
      "source": [
        "Ejercicio 5"
      ],
      "metadata": {
        "id": "Bk7UAEhNfD9S"
      }
    },
    {
      "cell_type": "code",
      "source": [
        "base=float(input(\"me puedes dar la base : \"))"
      ],
      "metadata": {
        "id": "dNDq6B_ofF5S",
        "colab": {
          "base_uri": "https://localhost:8080/"
        },
        "outputId": "5c6ffd65-b769-4fa5-8799-460960017b03"
      },
      "execution_count": 17,
      "outputs": [
        {
          "name": "stdout",
          "output_type": "stream",
          "text": [
            "me puedes dar la base : 2\n"
          ]
        }
      ]
    },
    {
      "cell_type": "code",
      "source": [
        "altura=float(input(\"me puedes dar la altura : \"))"
      ],
      "metadata": {
        "colab": {
          "base_uri": "https://localhost:8080/"
        },
        "id": "MLejH3moRWjE",
        "outputId": "182a885c-2be6-4e14-9be6-c26dd20326e8"
      },
      "execution_count": 18,
      "outputs": [
        {
          "name": "stdout",
          "output_type": "stream",
          "text": [
            "me puedes dar la altura : 5\n"
          ]
        }
      ]
    },
    {
      "cell_type": "code",
      "source": [
        "superficie=(base*altura)/2"
      ],
      "metadata": {
        "id": "Wwu0GyozRbsa"
      },
      "execution_count": 19,
      "outputs": []
    },
    {
      "cell_type": "code",
      "source": [
        "print(f\"superficie del triangulo {superficie}\")"
      ],
      "metadata": {
        "colab": {
          "base_uri": "https://localhost:8080/"
        },
        "id": "zzZY9jkQRmj6",
        "outputId": "859bae60-6562-4d2f-e80d-ca21ca34d4cf"
      },
      "execution_count": 20,
      "outputs": [
        {
          "output_type": "stream",
          "name": "stdout",
          "text": [
            "superficie del triangulo 5.0\n"
          ]
        }
      ]
    },
    {
      "cell_type": "markdown",
      "source": [
        "Ejercicio 6"
      ],
      "metadata": {
        "id": "0iVpcnb3SGyz"
      }
    },
    {
      "cell_type": "code",
      "source": [
        "dias=float(input(\"dias : \"))"
      ],
      "metadata": {
        "colab": {
          "base_uri": "https://localhost:8080/"
        },
        "id": "z5VUZanySRui",
        "outputId": "76bfa5b1-de65-4ca9-994e-831626649608"
      },
      "execution_count": 92,
      "outputs": [
        {
          "name": "stdout",
          "output_type": "stream",
          "text": [
            "dias : 5\n"
          ]
        }
      ]
    },
    {
      "cell_type": "code",
      "source": [
        "diascl=(dias*24*60*60)"
      ],
      "metadata": {
        "id": "tI2nC7FMSubb"
      },
      "execution_count": 93,
      "outputs": []
    },
    {
      "cell_type": "code",
      "source": [
        "print(f\"dias seguidos {diascl}\")"
      ],
      "metadata": {
        "colab": {
          "base_uri": "https://localhost:8080/"
        },
        "id": "gaoHeURfS4ja",
        "outputId": "bdc063bb-2292-40a8-ea45-34d49ceb89ea"
      },
      "execution_count": 94,
      "outputs": [
        {
          "output_type": "stream",
          "name": "stdout",
          "text": [
            "dias seguidos 432000.0\n"
          ]
        }
      ]
    },
    {
      "cell_type": "markdown",
      "source": [
        "Ejercicio 7"
      ],
      "metadata": {
        "id": "TzsAViG6TrYE"
      }
    },
    {
      "cell_type": "code",
      "source": [
        "lado1=int(input(\"lado 1 del triangulo : \"))\n",
        "lado2=int(input(\"lado 2 del triangulo : \"))\n",
        "lado3=int(input(\"lado 3 del triangulo : \"))"
      ],
      "metadata": {
        "colab": {
          "base_uri": "https://localhost:8080/"
        },
        "id": "A-OV84DOTteC",
        "outputId": "8c708b6e-cba6-46b6-d1b5-9ade19cf04fd"
      },
      "execution_count": 63,
      "outputs": [
        {
          "name": "stdout",
          "output_type": "stream",
          "text": [
            "lado 1 del triangulo : 20\n",
            "lado 2 del triangulo : 30\n",
            "lado 3 del triangulo : 15\n"
          ]
        }
      ]
    },
    {
      "cell_type": "code",
      "source": [
        "Superficie3=(lado1+lado2+lado3)/2\n",
        "print(f\"resultado {Superficie3}\")"
      ],
      "metadata": {
        "colab": {
          "base_uri": "https://localhost:8080/"
        },
        "id": "f6w88LMtUKRq",
        "outputId": "37c1b122-e750-4f99-a053-d7ad70b71bfa"
      },
      "execution_count": 70,
      "outputs": [
        {
          "output_type": "stream",
          "name": "stdout",
          "text": [
            "resultado 32.5\n"
          ]
        }
      ]
    },
    {
      "cell_type": "code",
      "source": [
        "S1=Superficie3-lado1\n",
        "S2=Superficie3-lado2\n",
        "S3=Superficie3-lado3\n",
        "S4=Superficie3*S1*S2*S3\n",
        "raiz_cuadrada = math.sqrt(S4)\n",
        "import math\n",
        "print(f\"el area es {raiz_cuadrada}\")"
      ],
      "metadata": {
        "colab": {
          "base_uri": "https://localhost:8080/"
        },
        "id": "9Q6NACFsUX_C",
        "outputId": "e9de388d-789f-4dd7-bc03-a52ebfdbddc6"
      },
      "execution_count": 79,
      "outputs": [
        {
          "output_type": "stream",
          "name": "stdout",
          "text": [
            "el area es 133.31705629813464\n"
          ]
        }
      ]
    },
    {
      "cell_type": "code",
      "source": [
        "#sc=float(input(\"lado 3 del triangulo : \"))\n",
        "#raiz_cuadrada = math.sqrt(sc)\n",
        "#import math se necesita importar el math para hacer la operacion de raiz\n",
        "#print(f\"La raíz cuadrada de  es {raiz_cuadrada}\")"
      ],
      "metadata": {
        "id": "_N_DrESFU29S"
      },
      "execution_count": 80,
      "outputs": []
    },
    {
      "cell_type": "markdown",
      "source": [
        "Ejercicio 8"
      ],
      "metadata": {
        "id": "Fl06M9edbImI"
      }
    },
    {
      "cell_type": "code",
      "source": [
        "X1=int(input(\"primar dato x : \"))\n",
        "Y1=int(input(\"primer dato y : \"))\n",
        "X2=int(input(\"segundo dato x : \"))\n",
        "Y2=int(input(\"segundo dato y : \"))"
      ],
      "metadata": {
        "colab": {
          "base_uri": "https://localhost:8080/"
        },
        "id": "GoqiNvKzbUgQ",
        "outputId": "f13a3aaa-274c-45e6-b838-086669431378"
      },
      "execution_count": 82,
      "outputs": [
        {
          "name": "stdout",
          "output_type": "stream",
          "text": [
            "primar dato x : 3\n",
            "primer dato y : 5\n",
            "segundo dato x : 2\n",
            "segundo dato y : 7\n"
          ]
        }
      ]
    },
    {
      "cell_type": "code",
      "source": [
        "ope1=pow((X1-X2),2)\n",
        "ope2=pow((Y1-Y2),2)\n",
        "ope3=ope1+ope2\n",
        "ope4=math.sqrt(ope3)\n",
        "import math\n",
        "print(f\"la distancia es {ope4}\")"
      ],
      "metadata": {
        "colab": {
          "base_uri": "https://localhost:8080/"
        },
        "id": "ZsS09QJgbXso",
        "outputId": "2c5e0c11-2496-46da-c9b1-a57dd45d66eb"
      },
      "execution_count": 90,
      "outputs": [
        {
          "output_type": "stream",
          "name": "stdout",
          "text": [
            "la distancia es 2.23606797749979\n"
          ]
        }
      ]
    },
    {
      "cell_type": "code",
      "source": [],
      "metadata": {
        "id": "Iqwx-lzXb_tv"
      },
      "execution_count": null,
      "outputs": []
    }
  ]
}